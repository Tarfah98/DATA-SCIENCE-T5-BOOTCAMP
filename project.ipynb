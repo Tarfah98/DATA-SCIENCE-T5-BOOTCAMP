{
 "cells": [
  {
   "cell_type": "code",
   "execution_count": 1,
   "id": "7535644c",
   "metadata": {},
   "outputs": [],
   "source": [
    "import pandas as pd"
   ]
  },
  {
   "cell_type": "code",
   "execution_count": 2,
   "id": "0389ea53",
   "metadata": {},
   "outputs": [],
   "source": [
    "import numpy as np\n",
    "import matplotlib.pyplot as plt\n",
    "\n",
    "%matplotlib inline"
   ]
  },
  {
   "cell_type": "code",
   "execution_count": 3,
   "id": "57fb673b",
   "metadata": {},
   "outputs": [],
   "source": [
    "import datetime"
   ]
  },
  {
   "cell_type": "markdown",
   "id": "967765c7",
   "metadata": {},
   "source": [
    "### here we created two dataframes for the period before COVID and after COVID happend"
   ]
  },
  {
   "cell_type": "code",
   "execution_count": null,
   "id": "c0f71e52",
   "metadata": {},
   "outputs": [],
   "source": [
    "def get_data(week_nums):\n",
    "    url = \"http://web.mta.info/developers/data/nyct/turnstile/turnstile_{}.txt\"\n",
    "    dfs = []\n",
    "    for week_num in week_nums:\n",
    "        file_url = url.format(week_num)\n",
    "        dfs.append(pd.read_csv(file_url))\n",
    "    return pd.concat(dfs)\n",
    "        \n",
    "week_nums = [191102, 191109, 191116,191123,191130,191207,191214,191221,191228]\n",
    "turnstiles_df_before = get_data(week_nums)"
   ]
  },
  {
   "cell_type": "code",
   "execution_count": null,
   "id": "efb2bb08",
   "metadata": {},
   "outputs": [],
   "source": [
    "def get_data(week_nums):\n",
    "    url = \"http://web.mta.info/developers/data/nyct/turnstile/turnstile_{}.txt\"\n",
    "    dfs = []\n",
    "    for week_num in week_nums:\n",
    "        file_url = url.format(week_num)\n",
    "        dfs.append(pd.read_csv(file_url))\n",
    "    return pd.concat(dfs)\n",
    "        \n",
    "week_nums = [201107,201114,201121,201128,201205,201212,201219,201226]\n",
    "turnstiles_df_after = get_data(week_nums)"
   ]
  },
  {
   "cell_type": "code",
   "execution_count": null,
   "id": "21a8d665",
   "metadata": {},
   "outputs": [],
   "source": [
    "turnstiles_df_before.head()"
   ]
  },
  {
   "cell_type": "code",
   "execution_count": null,
   "id": "5ac74c6b",
   "metadata": {},
   "outputs": [],
   "source": [
    "turnstiles_df_after.head()"
   ]
  },
  {
   "cell_type": "code",
   "execution_count": null,
   "id": "34aadfb3",
   "metadata": {},
   "outputs": [],
   "source": [
    "turnstiles_df_before.columns"
   ]
  },
  {
   "cell_type": "code",
   "execution_count": null,
   "id": "7c64f92e",
   "metadata": {},
   "outputs": [],
   "source": [
    "turnstiles_df_after.columns"
   ]
  },
  {
   "cell_type": "code",
   "execution_count": null,
   "id": "2a1cdeff",
   "metadata": {},
   "outputs": [],
   "source": [
    "turnstiles_df_before.columns = [column.strip() for column in turnstiles_df_before.columns]\n",
    "turnstiles_df_before.columns"
   ]
  },
  {
   "cell_type": "code",
   "execution_count": null,
   "id": "05c88575",
   "metadata": {},
   "outputs": [],
   "source": [
    "turnstiles_df_after.columns = [column.strip() for column in turnstiles_df_after.columns]\n",
    "turnstiles_df_after.columns"
   ]
  },
  {
   "cell_type": "code",
   "execution_count": null,
   "id": "67922976",
   "metadata": {},
   "outputs": [],
   "source": [
    "turnstiles_df_before.DATE.value_counts().sort_index()"
   ]
  },
  {
   "cell_type": "code",
   "execution_count": null,
   "id": "ff349f89",
   "metadata": {},
   "outputs": [],
   "source": [
    "turnstiles_df_after.DATE.value_counts().sort_index()"
   ]
  },
  {
   "cell_type": "code",
   "execution_count": null,
   "id": "8402d800",
   "metadata": {},
   "outputs": [],
   "source": [
    "turnstiles_df_before.dtypes"
   ]
  },
  {
   "cell_type": "code",
   "execution_count": null,
   "id": "640c54db",
   "metadata": {},
   "outputs": [],
   "source": [
    "turnstiles_df_after.dtypes"
   ]
  },
  {
   "cell_type": "markdown",
   "id": "f5de30d3",
   "metadata": {},
   "source": [
    "### the shape of each dataframe we created"
   ]
  },
  {
   "cell_type": "code",
   "execution_count": null,
   "id": "59c73470",
   "metadata": {},
   "outputs": [],
   "source": [
    "turnstiles_df_before.shape"
   ]
  },
  {
   "cell_type": "code",
   "execution_count": null,
   "id": "46424da5",
   "metadata": {},
   "outputs": [],
   "source": [
    "turnstiles_df_after.shape"
   ]
  },
  {
   "cell_type": "code",
   "execution_count": null,
   "id": "3b566d83",
   "metadata": {},
   "outputs": [],
   "source": [
    "turnstiles_df_before[\"DATE_TIME\"] = pd.to_datetime(turnstiles_df_before.DATE + \" \" + turnstiles_df_before.TIME, \n",
    "                                                   format=\"%m/%d/%Y %H:%M:%S\")"
   ]
  },
  {
   "cell_type": "code",
   "execution_count": null,
   "id": "d54c364c",
   "metadata": {},
   "outputs": [],
   "source": [
    "turnstiles_df_after[\"DATE_TIME\"] = pd.to_datetime(turnstiles_df_after.DATE + \" \" + turnstiles_df_after.TIME,\n",
    "                                                  format=\"%m/%d/%Y %H:%M:%S\")"
   ]
  },
  {
   "cell_type": "code",
   "execution_count": null,
   "id": "9f2c2313",
   "metadata": {},
   "outputs": [],
   "source": [
    "turnstiles_df_before['DATE_TIME'].dtypes"
   ]
  },
  {
   "cell_type": "code",
   "execution_count": null,
   "id": "163bf231",
   "metadata": {},
   "outputs": [],
   "source": [
    "turnstiles_df_after['DATE_TIME'].dtypes"
   ]
  },
  {
   "cell_type": "code",
   "execution_count": null,
   "id": "970888b2",
   "metadata": {
    "scrolled": true
   },
   "outputs": [],
   "source": [
    "turnstiles_df_before.head()"
   ]
  },
  {
   "cell_type": "code",
   "execution_count": null,
   "id": "0828c8f9",
   "metadata": {
    "scrolled": true
   },
   "outputs": [],
   "source": [
    "turnstiles_df_after.head()"
   ]
  },
  {
   "cell_type": "markdown",
   "id": "dd7d2971",
   "metadata": {},
   "source": [
    "### to see if there is duplicates and then remove them"
   ]
  },
  {
   "cell_type": "code",
   "execution_count": null,
   "id": "51dfd3d2",
   "metadata": {},
   "outputs": [],
   "source": [
    "(turnstiles_df_before\n",
    " .groupby([\"C/A\", \"UNIT\", \"SCP\", \"STATION\", \"DATE_TIME\"])\n",
    " .ENTRIES.count()\n",
    " .reset_index()\n",
    " .sort_values(\"ENTRIES\", ascending=False)).head(10)"
   ]
  },
  {
   "cell_type": "code",
   "execution_count": null,
   "id": "b2151e7d",
   "metadata": {},
   "outputs": [],
   "source": [
    "(turnstiles_df_after\n",
    " .groupby([\"C/A\", \"UNIT\", \"SCP\", \"STATION\", \"DATE_TIME\"])\n",
    " .ENTRIES.count()\n",
    " .reset_index()\n",
    " .sort_values(\"ENTRIES\", ascending=True)).head(10)"
   ]
  },
  {
   "cell_type": "code",
   "execution_count": null,
   "id": "5f091877",
   "metadata": {
    "scrolled": true
   },
   "outputs": [],
   "source": [
    "mask = ((turnstiles_df_before[\"C/A\"] == \"N045\") & \n",
    "(turnstiles_df_before[\"UNIT\"] == \"R187\") & \n",
    "(turnstiles_df_before[\"SCP\"] == \"01-00-00\") & \n",
    "(turnstiles_df_before[\"STATION\"] == \"81 ST-MUSEUM\") &\n",
    "(turnstiles_df_before[\"DATE_TIME\"].dt.date == datetime.datetime(2019, 11, 16).date()))\n",
    "turnstiles_df_before[mask].head(10)"
   ]
  },
  {
   "cell_type": "code",
   "execution_count": null,
   "id": "a29eb7d8",
   "metadata": {
    "scrolled": true
   },
   "outputs": [],
   "source": [
    "mask = ((turnstiles_df_after[\"C/A\"] == \"N045\") & \n",
    "(turnstiles_df_after[\"UNIT\"] == \"R187\") & \n",
    "(turnstiles_df_after[\"SCP\"] == \"01-00-00\") & \n",
    "(turnstiles_df_after[\"STATION\"] == \"81 ST-MUSEUM\") &\n",
    "(turnstiles_df_after[\"DATE_TIME\"].dt.date == datetime.datetime(2020, 11, 28).date()))\n",
    "turnstiles_df_after[mask].head(10)"
   ]
  },
  {
   "cell_type": "code",
   "execution_count": null,
   "id": "4a6af42f",
   "metadata": {},
   "outputs": [],
   "source": [
    "turnstiles_df_before.sort_values([\"C/A\", \"UNIT\", \"SCP\", \"STATION\", \"DATE_TIME\"], \n",
    "                          inplace=True, ascending=False)\n",
    "turnstiles_df_before.drop_duplicates(subset=[\"C/A\", \"UNIT\", \"SCP\", \"STATION\", \"DATE_TIME\"], inplace=True)"
   ]
  },
  {
   "cell_type": "code",
   "execution_count": null,
   "id": "588f655c",
   "metadata": {},
   "outputs": [],
   "source": [
    "turnstiles_df_after.sort_values([\"C/A\", \"UNIT\", \"SCP\", \"STATION\", \"DATE_TIME\"], \n",
    "                          inplace=True, ascending=False)\n",
    "turnstiles_df_after.drop_duplicates(subset=[\"C/A\", \"UNIT\", \"SCP\", \"STATION\", \"DATE_TIME\"], inplace=True)"
   ]
  },
  {
   "cell_type": "code",
   "execution_count": null,
   "id": "fca8aa5f",
   "metadata": {},
   "outputs": [],
   "source": [
    "(turnstiles_df_before\n",
    " .groupby([\"C/A\", \"UNIT\", \"SCP\", \"STATION\", \"DATE_TIME\"])\n",
    " .ENTRIES.count()\n",
    " .reset_index()\n",
    " .sort_values(\"ENTRIES\", ascending=False)).head()"
   ]
  },
  {
   "cell_type": "code",
   "execution_count": null,
   "id": "a38c21f9",
   "metadata": {},
   "outputs": [],
   "source": [
    "(turnstiles_df_after\n",
    " .groupby([\"C/A\", \"UNIT\", \"SCP\", \"STATION\", \"DATE_TIME\"])\n",
    " .ENTRIES.count()\n",
    " .reset_index()\n",
    " .sort_values(\"ENTRIES\", ascending=False)).head()"
   ]
  },
  {
   "cell_type": "code",
   "execution_count": null,
   "id": "6b57350b",
   "metadata": {},
   "outputs": [],
   "source": [
    "turnstiles_df_before.DESC.value_counts()"
   ]
  },
  {
   "cell_type": "code",
   "execution_count": null,
   "id": "566641a1",
   "metadata": {},
   "outputs": [],
   "source": [
    "turnstiles_df_after.DESC.value_counts()"
   ]
  },
  {
   "cell_type": "code",
   "execution_count": null,
   "id": "be5d7eab",
   "metadata": {},
   "outputs": [],
   "source": [
    "turnstiles_df_before"
   ]
  },
  {
   "cell_type": "code",
   "execution_count": null,
   "id": "f099119c",
   "metadata": {},
   "outputs": [],
   "source": [
    "turnstiles_df_before"
   ]
  },
  {
   "cell_type": "code",
   "execution_count": null,
   "id": "e0609796",
   "metadata": {},
   "outputs": [],
   "source": [
    "turnstiles_daily_before = (turnstiles_df_before\n",
    "                        .groupby([\"C/A\", \"UNIT\", \"SCP\", \"STATION\", \"DATE\"],as_index=False)\n",
    "                        .ENTRIES.first())"
   ]
  },
  {
   "cell_type": "code",
   "execution_count": null,
   "id": "34e1837a",
   "metadata": {},
   "outputs": [],
   "source": [
    "turnstiles_daily_before.head()"
   ]
  },
  {
   "cell_type": "code",
   "execution_count": null,
   "id": "3096a624",
   "metadata": {},
   "outputs": [],
   "source": [
    "turnstiles_daily_after = (turnstiles_df_after\n",
    "                        .groupby([\"C/A\", \"UNIT\", \"SCP\", \"STATION\", \"DATE\"],as_index=False)\n",
    "                        .ENTRIES.first())"
   ]
  },
  {
   "cell_type": "code",
   "execution_count": null,
   "id": "e35dba02",
   "metadata": {},
   "outputs": [],
   "source": [
    "turnstiles_daily_after.head()"
   ]
  },
  {
   "cell_type": "code",
   "execution_count": null,
   "id": "4d3ea5de",
   "metadata": {
    "scrolled": true
   },
   "outputs": [],
   "source": [
    "turnstiles_daily_before[[\"PREV_DATE\", \"PREV_ENTRIES\"]] = (turnstiles_daily_before\n",
    "                                                       .groupby([\"C/A\", \"UNIT\", \"SCP\", \"STATION\"])[\"DATE\", \"ENTRIES\"]\n",
    "                                                       .transform(lambda grp: grp.shift(1)))"
   ]
  },
  {
   "cell_type": "code",
   "execution_count": null,
   "id": "33c8dfdd",
   "metadata": {},
   "outputs": [],
   "source": [
    "turnstiles_daily_before.head()"
   ]
  },
  {
   "cell_type": "code",
   "execution_count": null,
   "id": "52e2503d",
   "metadata": {},
   "outputs": [],
   "source": [
    "turnstiles_daily_before.tail()"
   ]
  },
  {
   "cell_type": "code",
   "execution_count": null,
   "id": "f0bf0735",
   "metadata": {
    "scrolled": true
   },
   "outputs": [],
   "source": [
    "turnstiles_daily_after[[\"PREV_DATE\", \"PREV_ENTRIES\"]] = (turnstiles_daily_after\n",
    "                                                       .groupby([\"C/A\", \"UNIT\", \"SCP\", \"STATION\"])[\"DATE\", \"ENTRIES\"]\n",
    "                                                       .transform(lambda grp: grp.shift(1)))"
   ]
  },
  {
   "cell_type": "code",
   "execution_count": null,
   "id": "f28975dc",
   "metadata": {},
   "outputs": [],
   "source": [
    "turnstiles_daily_after.head()"
   ]
  },
  {
   "cell_type": "code",
   "execution_count": null,
   "id": "64134c99",
   "metadata": {},
   "outputs": [],
   "source": [
    "turnstiles_daily_after.tail()"
   ]
  },
  {
   "cell_type": "code",
   "execution_count": null,
   "id": "0d71efb2",
   "metadata": {},
   "outputs": [],
   "source": [
    "turnstiles_daily_before.dropna(subset=[\"PREV_DATE\"], axis=0, inplace=True)"
   ]
  },
  {
   "cell_type": "code",
   "execution_count": null,
   "id": "5c790ead",
   "metadata": {},
   "outputs": [],
   "source": [
    "turnstiles_daily_before.head()"
   ]
  },
  {
   "cell_type": "code",
   "execution_count": null,
   "id": "fd765e25",
   "metadata": {},
   "outputs": [],
   "source": [
    "turnstiles_daily_after.dropna(subset=[\"PREV_DATE\"], axis=0, inplace=True)"
   ]
  },
  {
   "cell_type": "code",
   "execution_count": null,
   "id": "685b5f46",
   "metadata": {},
   "outputs": [],
   "source": [
    "turnstiles_daily_after.head()"
   ]
  },
  {
   "cell_type": "code",
   "execution_count": null,
   "id": "c2b1462a",
   "metadata": {},
   "outputs": [],
   "source": [
    "positive_entries_mask_before = turnstiles_daily_before[\"ENTRIES\"] > turnstiles_daily_before[\"PREV_ENTRIES\"]\n",
    "positive_entries_mask_before"
   ]
  },
  {
   "cell_type": "code",
   "execution_count": null,
   "id": "0ccfc42b",
   "metadata": {},
   "outputs": [],
   "source": [
    "positive_entries_mask_after = turnstiles_daily_after[\"ENTRIES\"] > turnstiles_daily_after[\"PREV_ENTRIES\"]\n",
    "positive_entries_mask_before"
   ]
  },
  {
   "cell_type": "code",
   "execution_count": null,
   "id": "d8cf5734",
   "metadata": {},
   "outputs": [],
   "source": [
    "turnstiles_daily_before = turnstiles_daily_before[positive_entries_mask_before]\n",
    "turnstiles_daily_before"
   ]
  },
  {
   "cell_type": "code",
   "execution_count": null,
   "id": "c8c27d75",
   "metadata": {},
   "outputs": [],
   "source": [
    "turnstiles_daily_after = turnstiles_daily_after[positive_entries_mask_after]\n",
    "turnstiles_daily_after"
   ]
  },
  {
   "cell_type": "code",
   "execution_count": null,
   "id": "640ecc78",
   "metadata": {},
   "outputs": [],
   "source": [
    "def get_daily_counts(row, max_counter):\n",
    "    counter = row[\"ENTRIES\"] - row[\"PREV_ENTRIES\"]\n",
    "    if counter > max_counter:\n",
    "        print(row[\"ENTRIES\"], row[\"PREV_ENTRIES\"])\n",
    "        counter = min(row[\"ENTRIES\"], row[\"PREV_ENTRIES\"])\n",
    "    if counter > max_counter:\n",
    "        return 0\n",
    "    return counter\n",
    "turnstiles_daily_before[\"DAILY_ENTRIES\"] = turnstiles_daily_before.apply(get_daily_counts, axis=1, max_counter=100000)"
   ]
  },
  {
   "cell_type": "code",
   "execution_count": null,
   "id": "6db6d29c",
   "metadata": {},
   "outputs": [],
   "source": [
    "def get_daily_counts(row, max_counter):\n",
    "    counter = row[\"ENTRIES\"] - row[\"PREV_ENTRIES\"]\n",
    "    if counter > max_counter:\n",
    "        print(row[\"ENTRIES\"], row[\"PREV_ENTRIES\"])\n",
    "        counter = min(row[\"ENTRIES\"], row[\"PREV_ENTRIES\"])\n",
    "    if counter > max_counter:\n",
    "        return 0\n",
    "    return counter\n",
    "turnstiles_daily_after[\"DAILY_ENTRIES\"] = turnstiles_daily_after.apply(get_daily_counts, axis=1, max_counter=100000)"
   ]
  },
  {
   "cell_type": "code",
   "execution_count": null,
   "id": "9f1ece7d",
   "metadata": {
    "scrolled": true
   },
   "outputs": [],
   "source": [
    "ca_unit_station_daily_before = turnstiles_daily_before.groupby([\"C/A\", \"UNIT\", \"STATION\", \"DATE\"])[['DAILY_ENTRIES']].sum().reset_index()\n",
    "ca_unit_station_daily_before"
   ]
  },
  {
   "cell_type": "code",
   "execution_count": null,
   "id": "2723d71a",
   "metadata": {},
   "outputs": [],
   "source": [
    "ca_unit_station_daily_after = turnstiles_daily_after.groupby([\"C/A\", \"UNIT\", \"STATION\", \"DATE\"])[['DAILY_ENTRIES']].sum().reset_index()\n",
    "ca_unit_station_daily_after"
   ]
  },
  {
   "cell_type": "code",
   "execution_count": null,
   "id": "4fb2e95c",
   "metadata": {
    "scrolled": true
   },
   "outputs": [],
   "source": [
    "station_daily_before = turnstiles_daily_before.groupby([\"STATION\", \"DATE\"])[['DAILY_ENTRIES']].sum().reset_index()\n",
    "station_daily_before"
   ]
  },
  {
   "cell_type": "code",
   "execution_count": null,
   "id": "1e892fc5",
   "metadata": {},
   "outputs": [],
   "source": [
    "station_daily_after = turnstiles_daily_after.groupby([\"STATION\", \"DATE\"])[['DAILY_ENTRIES']].sum().reset_index()\n",
    "station_daily_after"
   ]
  },
  {
   "cell_type": "code",
   "execution_count": null,
   "id": "82f79c72",
   "metadata": {},
   "outputs": [],
   "source": [
    "station_totals_before = station_daily_before.groupby('STATION').sum()\\\n",
    "    .sort_values('DAILY_ENTRIES', ascending=False)\\\n",
    "    .reset_index()\n",
    "\n",
    "station_totals_before.head()"
   ]
  },
  {
   "cell_type": "code",
   "execution_count": null,
   "id": "fc9930f3",
   "metadata": {},
   "outputs": [],
   "source": [
    "station_totals_after = station_daily_after.groupby('STATION').sum()\\\n",
    "    .sort_values('DAILY_ENTRIES', ascending=False)\\\n",
    "    .reset_index()\n",
    "\n",
    "station_totals_after.head()"
   ]
  },
  {
   "cell_type": "code",
   "execution_count": null,
   "id": "627c5224",
   "metadata": {},
   "outputs": [],
   "source": [
    "plt.figure(figsize=(20,10))\n",
    "plt.plot(station_totals_before.iloc[0:10]['STATION'],station_totals_before.iloc[0:10]['DAILY_ENTRIES'],)\n",
    "plt.plot(station_totals_after.iloc[0:10]['STATION'],station_totals_after.iloc[0:10]['DAILY_ENTRIES'])\n",
    "plt.title(' total Daily Entries for top 10 busiest stations before covid and after covid')"
   ]
  },
  {
   "cell_type": "markdown",
   "id": "5d145627",
   "metadata": {},
   "source": [
    "### the total daily EXITS for 10 busiest stations before covid and after covid"
   ]
  },
  {
   "cell_type": "code",
   "execution_count": null,
   "id": "dc98e84f",
   "metadata": {},
   "outputs": [],
   "source": [
    "turnstiles_daily_before = (turnstiles_df_before\n",
    "                        .groupby([\"C/A\", \"UNIT\", \"SCP\", \"STATION\", \"DATE\"],as_index=False)\n",
    "                        .EXITS.first())"
   ]
  },
  {
   "cell_type": "code",
   "execution_count": null,
   "id": "4ba5ceba",
   "metadata": {},
   "outputs": [],
   "source": [
    "turnstiles_daily_before.head()"
   ]
  },
  {
   "cell_type": "code",
   "execution_count": null,
   "id": "46ed614b",
   "metadata": {},
   "outputs": [],
   "source": [
    "turnstiles_daily_after = (turnstiles_df_before\n",
    "                        .groupby([\"C/A\", \"UNIT\", \"SCP\", \"STATION\", \"DATE\"],as_index=False)\n",
    "                        .EXITS.first())"
   ]
  },
  {
   "cell_type": "code",
   "execution_count": null,
   "id": "0c096e52",
   "metadata": {},
   "outputs": [],
   "source": [
    "turnstiles_daily_after.head()"
   ]
  },
  {
   "cell_type": "code",
   "execution_count": null,
   "id": "7a9f55e9",
   "metadata": {},
   "outputs": [],
   "source": [
    "turnstiles_daily_before[[\"PREV_DATE\", \"PREV_EXITS\"]] = (turnstiles_daily_before\n",
    "                                                       .groupby([\"C/A\", \"UNIT\", \"SCP\", \"STATION\"])[\"DATE\", \"EXITS\"]\n",
    "                                                       .transform(lambda grp: grp.shift(1)))"
   ]
  },
  {
   "cell_type": "code",
   "execution_count": null,
   "id": "8073f3dc",
   "metadata": {},
   "outputs": [],
   "source": [
    "turnstiles_daily_before.head()"
   ]
  },
  {
   "cell_type": "code",
   "execution_count": null,
   "id": "aebaa8c6",
   "metadata": {},
   "outputs": [],
   "source": [
    "turnstiles_daily_before.tail()"
   ]
  },
  {
   "cell_type": "code",
   "execution_count": null,
   "id": "7f2471ec",
   "metadata": {},
   "outputs": [],
   "source": [
    "turnstiles_daily_after[[\"PREV_DATE\", \"PREV_EXITS\"]] = (turnstiles_daily_after\n",
    "                                                       .groupby([\"C/A\", \"UNIT\", \"SCP\", \"STATION\"])[\"DATE\", \"EXITS\"]\n",
    "                                                       .transform(lambda grp: grp.shift(1)))"
   ]
  },
  {
   "cell_type": "code",
   "execution_count": null,
   "id": "9dd90200",
   "metadata": {},
   "outputs": [],
   "source": [
    "turnstiles_daily_after.head()"
   ]
  },
  {
   "cell_type": "code",
   "execution_count": null,
   "id": "9a9b04bb",
   "metadata": {},
   "outputs": [],
   "source": [
    "turnstiles_daily_after.tail()"
   ]
  },
  {
   "cell_type": "code",
   "execution_count": null,
   "id": "1237ae2f",
   "metadata": {},
   "outputs": [],
   "source": [
    "turnstiles_daily_before.dropna(subset=[\"PREV_DATE\"], axis=0, inplace=True)"
   ]
  },
  {
   "cell_type": "code",
   "execution_count": null,
   "id": "e58a455a",
   "metadata": {},
   "outputs": [],
   "source": [
    "turnstiles_daily_before.head()"
   ]
  },
  {
   "cell_type": "code",
   "execution_count": null,
   "id": "3c87fa8b",
   "metadata": {},
   "outputs": [],
   "source": [
    "turnstiles_daily_after.dropna(subset=[\"PREV_DATE\"], axis=0, inplace=True)"
   ]
  },
  {
   "cell_type": "code",
   "execution_count": null,
   "id": "1a30a063",
   "metadata": {},
   "outputs": [],
   "source": [
    "turnstiles_daily_after.head()"
   ]
  },
  {
   "cell_type": "code",
   "execution_count": null,
   "id": "d5bb60b9",
   "metadata": {},
   "outputs": [],
   "source": [
    "positive_exits_mask_before = turnstiles_daily_before[\"EXITS\"] > turnstiles_daily_before[\"PREV_EXITS\"]\n",
    "positive_exits_mask_before"
   ]
  },
  {
   "cell_type": "code",
   "execution_count": null,
   "id": "45ea4443",
   "metadata": {},
   "outputs": [],
   "source": [
    "positive_exits_mask_after = turnstiles_daily_before[\"EXITS\"] > turnstiles_daily_before[\"PREV_EXITS\"]\n",
    "positive_exits_mask_after"
   ]
  },
  {
   "cell_type": "code",
   "execution_count": null,
   "id": "cc36827c",
   "metadata": {},
   "outputs": [],
   "source": [
    "turnstiles_daily_before = turnstiles_daily_before[positive_exits_mask_before]\n",
    "turnstiles_daily_before"
   ]
  },
  {
   "cell_type": "code",
   "execution_count": null,
   "id": "4215f1e0",
   "metadata": {},
   "outputs": [],
   "source": [
    "turnstiles_daily_after = turnstiles_daily_after[positive_exits_mask_after]\n",
    "turnstiles_daily_after"
   ]
  },
  {
   "cell_type": "code",
   "execution_count": null,
   "id": "fa97594f",
   "metadata": {},
   "outputs": [],
   "source": [
    "def get_daily_counts(row, max_counter):\n",
    "    counter = row[\"EXITS\"] - row[\"PREV_EXITS\"]\n",
    "    if counter > max_counter:\n",
    "        print(row[\"EXITS\"], row[\"PREV_EXITS\"])\n",
    "        counter = min(row[\"EXITS\"], row[\"PREV_EXITS\"])\n",
    "    if counter > max_counter:\n",
    "        return 0\n",
    "    return counter\n",
    "turnstiles_daily_before[\"DAILY_EXITS\"] = turnstiles_daily_before.apply(get_daily_counts, axis=1, max_counter=100000)"
   ]
  },
  {
   "cell_type": "code",
   "execution_count": null,
   "id": "9a0165a9",
   "metadata": {},
   "outputs": [],
   "source": [
    "def get_daily_counts(row, max_counter):\n",
    "    counter = row[\"EXITS\"] - row[\"PREV_EXITS\"]\n",
    "    if counter > max_counter:\n",
    "        print(row[\"EXITS\"], row[\"PREV_EXITS\"])\n",
    "        counter = min(row[\"EXITS\"], row[\"PREV_EXITS\"])\n",
    "    if counter > max_counter:\n",
    "        return 0\n",
    "    return counter\n",
    "turnstiles_daily_after[\"DAILY_EXITS\"] = turnstiles_daily_after.apply(get_daily_counts, axis=1, max_counter=100000)"
   ]
  },
  {
   "cell_type": "code",
   "execution_count": null,
   "id": "13ce880a",
   "metadata": {},
   "outputs": [],
   "source": [
    "ca_unit_station_daily_before = turnstiles_daily_before.groupby([\"C/A\", \"UNIT\", \"STATION\", \"DATE\"])[['DAILY_EXITS']].sum().reset_index()\n",
    "ca_unit_station_daily_before"
   ]
  },
  {
   "cell_type": "code",
   "execution_count": null,
   "id": "9e13abdc",
   "metadata": {},
   "outputs": [],
   "source": [
    "ca_unit_station_daily_after = turnstiles_daily_after.groupby([\"C/A\", \"UNIT\", \"STATION\", \"DATE\"])[['DAILY_EXITS']].sum().reset_index()\n",
    "ca_unit_station_daily_after"
   ]
  },
  {
   "cell_type": "code",
   "execution_count": null,
   "id": "7050e8aa",
   "metadata": {},
   "outputs": [],
   "source": [
    "station_daily_before = turnstiles_daily_before.groupby([\"STATION\", \"DATE\"])[['DAILY_EXITS']].sum().reset_index()\n",
    "station_daily_before"
   ]
  },
  {
   "cell_type": "code",
   "execution_count": null,
   "id": "1d82dc68",
   "metadata": {},
   "outputs": [],
   "source": [
    "station_daily_after = turnstiles_daily_after.groupby([\"STATION\", \"DATE\"])[['DAILY_EXITS']].sum().reset_index()\n",
    "station_daily_after"
   ]
  },
  {
   "cell_type": "code",
   "execution_count": null,
   "id": "c6b01123",
   "metadata": {},
   "outputs": [],
   "source": [
    "station_totals_before = station_daily_before.groupby('STATION').sum()\\\n",
    "    .sort_values('DAILY_EXITS', ascending=False)\\\n",
    "    .reset_index()\n",
    "\n",
    "station_totals_before.head()"
   ]
  },
  {
   "cell_type": "code",
   "execution_count": null,
   "id": "f97092cf",
   "metadata": {},
   "outputs": [],
   "source": [
    "station_totals_after = station_daily_after.groupby('STATION').sum()\\\n",
    "    .sort_values('DAILY_EXITS', ascending=False)\\\n",
    "    .reset_index()\n",
    "\n",
    "station_totals_after.head()"
   ]
  },
  {
   "cell_type": "code",
   "execution_count": null,
   "id": "46e459e3",
   "metadata": {},
   "outputs": [],
   "source": [
    "plt.figure(figsize=(20,10))\n",
    "plt.plot(station_totals_before.iloc[0:10]['STATION'],station_totals_before.iloc[0:10]['DAILY_EXITS'],)\n",
    "plt.plot(station_totals_after.iloc[0:10]['STATION'],station_totals_after.iloc[0:10]['DAILY_EXITS'])\n",
    "plt.title(' total Daily Exits for top 10 busiest stations before covid and after covid')"
   ]
  },
  {
   "cell_type": "code",
   "execution_count": null,
   "id": "02669ea1",
   "metadata": {},
   "outputs": [],
   "source": []
  }
 ],
 "metadata": {
  "kernelspec": {
   "display_name": "Python 3",
   "language": "python",
   "name": "python3"
  },
  "language_info": {
   "codemirror_mode": {
    "name": "ipython",
    "version": 3
   },
   "file_extension": ".py",
   "mimetype": "text/x-python",
   "name": "python",
   "nbconvert_exporter": "python",
   "pygments_lexer": "ipython3",
   "version": "3.8.8"
  }
 },
 "nbformat": 4,
 "nbformat_minor": 5
}
